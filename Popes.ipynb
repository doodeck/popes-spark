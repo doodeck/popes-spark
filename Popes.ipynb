{
  "nbformat": 4,
  "nbformat_minor": 0,
  "metadata": {
    "colab": {
      "name": "Popes.ipynb",
      "provenance": [],
      "collapsed_sections": [],
      "authorship_tag": "ABX9TyPRW6VOsesIdgLSD1P+D2nT",
      "include_colab_link": true
    },
    "kernelspec": {
      "name": "python3",
      "display_name": "Python 3"
    }
  },
  "cells": [
    {
      "cell_type": "markdown",
      "metadata": {
        "id": "view-in-github",
        "colab_type": "text"
      },
      "source": [
        "<a href=\"https://colab.research.google.com/github/doodeck/popes-spark/blob/main/Popes.ipynb\" target=\"_parent\"><img src=\"https://colab.research.google.com/assets/colab-badge.svg\" alt=\"Open In Colab\"/></a>"
      ]
    },
    {
      "cell_type": "markdown",
      "metadata": {
        "id": "Pvc0HstGuB0w"
      },
      "source": [
        "Complete list of Popes Data Analysis"
      ]
    },
    {
      "cell_type": "code",
      "metadata": {
        "id": "DM-s5P6Xt90t"
      },
      "source": [
        "!pip install pyspark\n",
        "!pip install -U -q PyDrive\n",
        "!apt install openjdk-8-jdk-headless -qq\n",
        "import os\n",
        "os.environ[\"JAVA_HOME\"] = \"/usr/lib/jvm/java-8-openjdk-amd64\""
      ],
      "execution_count": null,
      "outputs": []
    },
    {
      "cell_type": "code",
      "metadata": {
        "id": "HlnFnwhDuVFX",
        "outputId": "daa898da-4150-4b35-a4ed-e1de86211c3c",
        "colab": {
          "base_uri": "https://localhost:8080/",
          "height": 306
        }
      },
      "source": [
        "!(mkdir data ; cd data ; rm popes.csv ; wget \"https://raw.githubusercontent.com/doodeck/popes-spark/main/data/popes.csv\" )\n",
        "!ls -ltraR data/"
      ],
      "execution_count": 30,
      "outputs": [
        {
          "output_type": "stream",
          "text": [
            "mkdir: cannot create directory ‘data’: File exists\n",
            "--2020-10-25 16:13:04--  https://raw.githubusercontent.com/doodeck/popes-spark/main/data/popes.csv\n",
            "Resolving raw.githubusercontent.com (raw.githubusercontent.com)... 151.101.0.133, 151.101.64.133, 151.101.128.133, ...\n",
            "Connecting to raw.githubusercontent.com (raw.githubusercontent.com)|151.101.0.133|:443... connected.\n",
            "HTTP request sent, awaiting response... 200 OK\n",
            "Length: 38169 (37K) [text/plain]\n",
            "Saving to: ‘popes.csv’\n",
            "\n",
            "popes.csv           100%[===================>]  37.27K  --.-KB/s    in 0.009s  \n",
            "\n",
            "2020-10-25 16:13:04 (3.90 MB/s) - ‘popes.csv’ saved [38169/38169]\n",
            "\n",
            "data/:\n",
            "total 48\n",
            "drwxr-xr-x 1 root root  4096 Oct 25 14:45 ..\n",
            "drwxr-xr-x 2 root root  4096 Oct 25 16:13 .\n",
            "-rw-r--r-- 1 root root 38169 Oct 25 16:13 popes.csv\n"
          ],
          "name": "stdout"
        }
      ]
    },
    {
      "cell_type": "code",
      "metadata": {
        "id": "K8uoDEqHvT0n",
        "outputId": "2faa1873-0b0a-4d2a-dc48-7240ce808711",
        "colab": {
          "base_uri": "https://localhost:8080/",
          "height": 216
        }
      },
      "source": [
        "from pyspark.sql import (SparkSession, functions as F)\n",
        "\n",
        "# Creates a session on a local master\n",
        "spark = SparkSession.builder.appName(\"Orders analytics\") \\\n",
        "    .master(\"local[*]\").config(\"spark.ui.port\", \"4050\").getOrCreate()\n",
        "spark"
      ],
      "execution_count": 31,
      "outputs": [
        {
          "output_type": "execute_result",
          "data": {
            "text/html": [
              "\n",
              "            <div>\n",
              "                <p><b>SparkSession - in-memory</b></p>\n",
              "                \n",
              "        <div>\n",
              "            <p><b>SparkContext</b></p>\n",
              "\n",
              "            <p><a href=\"http://4f1da46be281:4050\">Spark UI</a></p>\n",
              "\n",
              "            <dl>\n",
              "              <dt>Version</dt>\n",
              "                <dd><code>v3.0.1</code></dd>\n",
              "              <dt>Master</dt>\n",
              "                <dd><code>local[*]</code></dd>\n",
              "              <dt>AppName</dt>\n",
              "                <dd><code>Orders analytics</code></dd>\n",
              "            </dl>\n",
              "        </div>\n",
              "        \n",
              "            </div>\n",
              "        "
            ],
            "text/plain": [
              "<pyspark.sql.session.SparkSession at 0x7fc89f97c240>"
            ]
          },
          "metadata": {
            "tags": []
          },
          "execution_count": 31
        }
      ]
    },
    {
      "cell_type": "code",
      "metadata": {
        "id": "_EHlwfx4vd9S",
        "outputId": "d89fbcda-17e6-4c3c-83bf-095559f52e5a",
        "colab": {
          "base_uri": "https://localhost:8080/",
          "height": 51
        }
      },
      "source": [
        "# set up a tunnel to spark UI\n",
        "!node --version\n",
        "cmd = 'npx localtunnel --port 4050 > tunnel.txt &'\n",
        "get_ipython().system_raw(cmd)\n",
        "!sleep 10\n",
        "!cat tunnel.txt"
      ],
      "execution_count": 4,
      "outputs": [
        {
          "output_type": "stream",
          "text": [
            "v12.14.1\n",
            "your url is: https://sour-earwig-8.loca.lt\n"
          ],
          "name": "stdout"
        }
      ]
    },
    {
      "cell_type": "code",
      "metadata": {
        "id": "9SBe-fq1v1N0",
        "outputId": "fdd86455-3468-493f-bbf6-6f226b9983e8",
        "colab": {
          "base_uri": "https://localhost:8080/",
          "height": 1000
        }
      },
      "source": [
        "from pyspark.sql.types import (StructType, StructField,\n",
        "                               StringType, IntegerType)\n",
        "\n",
        "def main(spark):\n",
        "    path = \"./data/\"\n",
        "    filename = \"popes.csv\"\n",
        "\n",
        "    # describe schema\n",
        "    schema = StructType([StructField('pontificate', StringType(), False),\n",
        "                        StructField('startYear', IntegerType(), False),\n",
        "                        StructField('endYear', IntegerType(), False),\n",
        "                        StructField('yearsAndDays', StringType(), False),\n",
        "                        StructField('days', IntegerType(), False),\n",
        "                        StructField('engName', StringType(), False),\n",
        "                        StructField('regName', StringType(), False),\n",
        "                        StructField('persName', StringType(), False),\n",
        "                        StructField('placeBirth', StringType(), False),\n",
        "                        StructField('countryBirth', StringType(), False),\n",
        "                        StructField('ageStart', IntegerType(), False),\n",
        "                        StructField('ageEnd', IntegerType(), False),\n",
        "                        StructField('comments', StringType(), False)])\n",
        "\n",
        "    # Reads a CSV file with header, called orders.csv,\n",
        "    # stores it in a dataframe\n",
        "    df = spark.read.format(\"csv\") \\\n",
        "        .option(\"header\", True) \\\n",
        "        .schema(schema) \\\n",
        "        .load(path + filename)\n",
        "\n",
        "    # df.cache() # creates an entry in Spark storage\n",
        "    df.show()\n",
        "    df.printSchema()\n",
        "\n",
        "    #purify the column names\n",
        "\n",
        "    # Analyse with SQL\n",
        "\n",
        "    df.createOrReplaceTempView(\"popes\")\n",
        "\n",
        "    sql_df = spark.sql('''\n",
        "      desc popes\n",
        "    ''')\n",
        "    sql_df.show(20)\n",
        "\n",
        "\n",
        "# setting log level, update this as per your requirement\n",
        "spark.sparkContext.setLogLevel(\"warn\")\n",
        "\n",
        "main(spark)\n"
      ],
      "execution_count": 9,
      "outputs": [
        {
          "output_type": "stream",
          "text": [
            "+--------------------+---------+-------+--------------------+-----+--------------------+-----------+--------------------+--------------------+------------+--------+------+--------------------+\n",
            "|         pontificate|startYear|endYear|        yearsAndDays| days|             engName|    regName|            persName|          placeBirth|countryBirth|ageStart|ageEnd|            comments|\n",
            "+--------------------+---------+-------+--------------------+-----+--------------------+-----------+--------------------+--------------------+------------+--------+------+--------------------+\n",
            "|          30 - 64/67|       30|     64|      34 to 37 years|13505|           St. Peter|     PETRUS|Simon Peter, Sime...|  Bethsaida, Galilea|      Israel|    null|  null|                null|\n",
            "| 64/67(?) - 76/79(?)|       64|     76|            12 years| 4380|           St. Linus|      LINUS|               Linus|Tuscia (Central T...|       Italy|    null|  null|                null|\n",
            "|       76/79(?) - 88|       76|     92| 12 years or 9 years| 4380|St. Anacletus (Cl...|  ANACLETUS|           Anacletus|     Probably Greece|      Greece|    null|  null|                null|\n",
            "|          88/92 - 97|       88|     97|                null| null|       St. Clement I|    CLEMENS|             Clement|                Rome|       Italy|    null|  null|                null|\n",
            "|     97/99 - 105/107|       97|    105|             8 years| 2920|St. Evaristus (Ar...|  EVARISTUS|             Aristus|    Bethlehem, Judea|   West Bank|    null|  null|                null|\n",
            "|   105/107 - 115/116|      105|    115| 10 years or 9 years| 3650|     St. Alexander I|  ALEXANDER|           Alexander|                Rome|       Italy|    null|  null|                null|\n",
            "|       115/116 - 125|      115|    125|20 years or 19 years| 7300|        St. Sixtus I|     XYSTUS|                 n.a|      Rome or Greece|      Greece|    null|  null|                null|\n",
            "|       125 - 136/138|      125|    136|11 years or 13 years| 4745|     St. Telesphorus|TELESPHORUS|                 n.a|              Greece|      Greece|    null|  null|                null|\n",
            "|   136/138 - 140/142|      136|    140|             4 years| 1460|         St. Hyginus|    HYGINUS|                 n.a|              Greece|      Greece|    null|  null|                null|\n",
            "|       140/142 - 155|      140|    142|15 years or 13 years| 5475|          St. Pius I|       PIUS|                 n.a|Aquileia, Friuli,...|       Italy|    null|  null|                null|\n",
            "|           155 - 166|      155|    166|            11 years| 4015|        St. Anicetus|   ANICETUS|                 n.a|        Emesa, Syria|       Syria|    null|  null|                null|\n",
            "|     c.166 - 174/175|      166|    174|  8 years or 9 years| 3285|          St. Soter |   SOTERIUS|                 n.a|Fondi, Latium, Italy|       Italy|    null|  null|                null|\n",
            "|       174/175 - 189|      174|    189|15 years or 14 years| 5475|       St. Eleuterus|ELEUTHERIUS|                 n.a|    Nicopoli, Epyrus|      Greece|    null|  null|                null|\n",
            "|       189 - 198/199|      189|    198| 9 years or 10 years| 3650|        St. Victor I|     VICTOR|                 n.a|     Northern Africa|      Africa|    null|  null|                null|\n",
            "|           199 - 217|      199|    217|            18 years| 6570|St. Zephyrinus (Z...| ZEPHYRINUS|                 n.a|                Rome|       Italy|    null|  null|                null|\n",
            "|     c.217 - 222/223|      217|    222|  5 years or 6 years| 2190|     St. Callixtus I|  CALLISTUS|                 n.a|               Spain|       Spain|    null|  null|                null|\n",
            "|       222/223 - 230|      222|    230|  8 years or 7 years| 2920|         St. Urban I|    URBANUS|                 n.a|                Rome|       Italy|    null|  null|                null|\n",
            "|21 July 230 - 28 ...|      230|    235|             5 years| 1825|         St. Pontian|  PONTIANUS|                 n.a|                Rome|       Italy|    null|  null|First pope with f...|\n",
            "|21 November 235 -...|      235|    236|             44 days|   44|         St. Anterus|    ANTERUS|                 n.a|              Greece|      Greece|    null|  null|                null|\n",
            "|10 January 236 - ...|      236|    250|            14 years| 5110|          St. Fabian|   FABIANUS|                 n.a|                Rome|       Italy|    null|  null|                null|\n",
            "+--------------------+---------+-------+--------------------+-----+--------------------+-----------+--------------------+--------------------+------------+--------+------+--------------------+\n",
            "only showing top 20 rows\n",
            "\n",
            "root\n",
            " |-- pontificate: string (nullable = true)\n",
            " |-- startYear: integer (nullable = true)\n",
            " |-- endYear: integer (nullable = true)\n",
            " |-- yearsAndDays: string (nullable = true)\n",
            " |-- days: integer (nullable = true)\n",
            " |-- engName: string (nullable = true)\n",
            " |-- regName: string (nullable = true)\n",
            " |-- persName: string (nullable = true)\n",
            " |-- placeBirth: string (nullable = true)\n",
            " |-- countryBirth: string (nullable = true)\n",
            " |-- ageStart: integer (nullable = true)\n",
            " |-- ageEnd: integer (nullable = true)\n",
            " |-- comments: string (nullable = true)\n",
            "\n",
            "+------------+---------+-------+\n",
            "|    col_name|data_type|comment|\n",
            "+------------+---------+-------+\n",
            "| pontificate|   string|   null|\n",
            "|   startYear|      int|   null|\n",
            "|     endYear|      int|   null|\n",
            "|yearsAndDays|   string|   null|\n",
            "|        days|      int|   null|\n",
            "|     engName|   string|   null|\n",
            "|     regName|   string|   null|\n",
            "|    persName|   string|   null|\n",
            "|  placeBirth|   string|   null|\n",
            "|countryBirth|   string|   null|\n",
            "|    ageStart|      int|   null|\n",
            "|      ageEnd|      int|   null|\n",
            "|    comments|   string|   null|\n",
            "+------------+---------+-------+\n",
            "\n"
          ],
          "name": "stdout"
        }
      ]
    },
    {
      "cell_type": "code",
      "metadata": {
        "id": "UiKW315VRMuf",
        "outputId": "0987dd4b-d758-4516-de5e-0ac318b4e4d8",
        "colab": {
          "base_uri": "https://localhost:8080/",
          "height": 547
        }
      },
      "source": [
        "    sql_df = spark.sql(\"\"\"\n",
        "      select count(*) as Number_of_records, max(days) from popes\n",
        "      -- select max(days) from popes\n",
        "    \"\"\")\n",
        "    sql_df.show(20)\n",
        "\n",
        "    sql_df = spark.sql(\"\"\"\n",
        "      select * from popes where days = (select max(days) from popes)\n",
        "    \"\"\")\n",
        "    sql_df.show(20)\n",
        "\n",
        "    sql_df = spark.sql(\"\"\"\n",
        "      select * from popes where days = (select min(days) from popes where days > 0)\n",
        "    \"\"\")\n",
        "    sql_df.show(20)\n",
        "\n",
        "    sql_df = spark.sql(\"\"\"\n",
        "      select * from popes where countryBirth like 'Poland'\n",
        "    \"\"\")\n",
        "    sql_df.show(20)\n",
        "\n",
        "    sql_df = spark.sql(\"\"\"\n",
        "      select * from popes where ageStart = (select min(ageStart) from popes where ageStart > 0)\n",
        "    \"\"\")\n",
        "    sql_df.show(20)\n"
      ],
      "execution_count": 37,
      "outputs": [
        {
          "output_type": "stream",
          "text": [
            "+-----------------+---------+\n",
            "|Number_of_records|max(days)|\n",
            "+-----------------+---------+\n",
            "|              272|    13505|\n",
            "+-----------------+---------+\n",
            "\n",
            "+-----------+---------+-------+--------------+-----+---------+-------+--------------------+------------------+------------+--------+------+--------+\n",
            "|pontificate|startYear|endYear|  yearsAndDays| days|  engName|regName|            persName|        placeBirth|countryBirth|ageStart|ageEnd|comments|\n",
            "+-----------+---------+-------+--------------+-----+---------+-------+--------------------+------------------+------------+--------+------+--------+\n",
            "| 30 - 64/67|       30|     64|34 to 37 years|13505|St. Peter| PETRUS|Simon Peter, Sime...|Bethsaida, Galilea|      Israel|    null|  null|    null|\n",
            "+-----------+---------+-------+--------------+-----+---------+-------+--------------------+------------------+------------+--------+------+--------+\n",
            "\n",
            "+--------------------+---------+-------+------------+----+---------+----------------+--------------------+------------------+------------+--------+------+--------------------+\n",
            "|         pontificate|startYear|endYear|yearsAndDays|days|  engName|         regName|            persName|        placeBirth|countryBirth|ageStart|ageEnd|            comments|\n",
            "+--------------------+---------+-------+------------+----+---------+----------------+--------------------+------------------+------------+--------+------+--------------------+\n",
            "|15 September 1590...|     1590|   1590|     12 days|  12|Urban VII|URBANUS Septimus|Giovanni Battista...|Rome, Papal States|       Italy|      69|    69|Shortest-reigning...|\n",
            "+--------------------+---------+-------+------------+----+---------+----------------+--------------------+------------------+------------+--------+------+--------------------+\n",
            "\n",
            "+--------------------+---------+-------+--------------------+----+--------------------+--------------------+-------------------+----------------+------------+--------+------+--------+\n",
            "|         pontificate|startYear|endYear|        yearsAndDays|days|             engName|             regName|           persName|      placeBirth|countryBirth|ageStart|ageEnd|comments|\n",
            "+--------------------+---------+-------+--------------------+----+--------------------+--------------------+-------------------+----------------+------------+--------+------+--------+\n",
            "|16 October 1978 -...|     1978|   2005|26 years and 168 ...|9658|Ven. John Paul II...|IOANNES PAULUS Se...|Karol Jozef Wojtyla|Wadowice, Poland|      Poland|      58|    84|    null|\n",
            "+--------------------+---------+-------+--------------------+----+--------------------+--------------------+-------------------+----------------+------------+--------+------+--------+\n",
            "\n",
            "+--------------------+---------+-------+--------------------+----+-------+-----------+--------------------+--------------------+------------+--------+------+--------+\n",
            "|         pontificate|startYear|endYear|        yearsAndDays|days|engName|    regName|            persName|          placeBirth|countryBirth|ageStart|ageEnd|comments|\n",
            "+--------------------+---------+-------+--------------------+----+-------+-----------+--------------------+--------------------+------------+--------+------+--------+\n",
            "|9 March 1513 - 1 ...|     1513|   1521|8 years and 267 days|3187|  Leo X|LEO Decimus|Giovanni di Loren...|Florence, Republi...|       Italy|      37|    45|    null|\n",
            "+--------------------+---------+-------+--------------------+----+-------+-----------+--------------------+--------------------+------------+--------+------+--------+\n",
            "\n"
          ],
          "name": "stdout"
        }
      ]
    }
  ]
}