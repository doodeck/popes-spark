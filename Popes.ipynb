{
  "nbformat": 4,
  "nbformat_minor": 0,
  "metadata": {
    "colab": {
      "name": "Popes.ipynb",
      "provenance": [],
      "collapsed_sections": [],
      "authorship_tag": "ABX9TyOtjog09f/6lgnwuH6mv1C6",
      "include_colab_link": true
    },
    "kernelspec": {
      "name": "python3",
      "display_name": "Python 3"
    }
  },
  "cells": [
    {
      "cell_type": "markdown",
      "metadata": {
        "id": "view-in-github",
        "colab_type": "text"
      },
      "source": [
        "<a href=\"https://colab.research.google.com/github/doodeck/popes-spark/blob/main/Popes.ipynb\" target=\"_parent\"><img src=\"https://colab.research.google.com/assets/colab-badge.svg\" alt=\"Open In Colab\"/></a>"
      ]
    },
    {
      "cell_type": "markdown",
      "metadata": {
        "id": "Pvc0HstGuB0w"
      },
      "source": [
        "Complete list of Popes Data Analysis"
      ]
    },
    {
      "cell_type": "code",
      "metadata": {
        "id": "DM-s5P6Xt90t",
        "outputId": "21e624be-b5a6-4109-cad6-d6e036c4e77b",
        "colab": {
          "base_uri": "https://localhost:8080/",
          "height": 833
        }
      },
      "source": [
        "!pip install pyspark\n",
        "!pip install -U -q PyDrive\n",
        "!apt install openjdk-8-jdk-headless -qq\n",
        "import os\n",
        "os.environ[\"JAVA_HOME\"] = \"/usr/lib/jvm/java-8-openjdk-amd64\""
      ],
      "execution_count": 1,
      "outputs": [
        {
          "output_type": "stream",
          "text": [
            "Collecting pyspark\n",
            "\u001b[?25l  Downloading https://files.pythonhosted.org/packages/f0/26/198fc8c0b98580f617cb03cb298c6056587b8f0447e20fa40c5b634ced77/pyspark-3.0.1.tar.gz (204.2MB)\n",
            "\u001b[K     |████████████████████████████████| 204.2MB 66kB/s \n",
            "\u001b[?25hCollecting py4j==0.10.9\n",
            "\u001b[?25l  Downloading https://files.pythonhosted.org/packages/9e/b6/6a4fb90cd235dc8e265a6a2067f2a2c99f0d91787f06aca4bcf7c23f3f80/py4j-0.10.9-py2.py3-none-any.whl (198kB)\n",
            "\u001b[K     |████████████████████████████████| 204kB 43.4MB/s \n",
            "\u001b[?25hBuilding wheels for collected packages: pyspark\n",
            "  Building wheel for pyspark (setup.py) ... \u001b[?25l\u001b[?25hdone\n",
            "  Created wheel for pyspark: filename=pyspark-3.0.1-py2.py3-none-any.whl size=204612243 sha256=d87752fa5c8c36e5c45b7cbfd2d7519346ecdc0912d146b10d91e7591bd8bd29\n",
            "  Stored in directory: /root/.cache/pip/wheels/5e/bd/07/031766ca628adec8435bb40f0bd83bb676ce65ff4007f8e73f\n",
            "Successfully built pyspark\n",
            "Installing collected packages: py4j, pyspark\n",
            "Successfully installed py4j-0.10.9 pyspark-3.0.1\n",
            "The following additional packages will be installed:\n",
            "  openjdk-8-jre-headless\n",
            "Suggested packages:\n",
            "  openjdk-8-demo openjdk-8-source libnss-mdns fonts-dejavu-extra\n",
            "  fonts-ipafont-gothic fonts-ipafont-mincho fonts-wqy-microhei\n",
            "  fonts-wqy-zenhei fonts-indic\n",
            "The following NEW packages will be installed:\n",
            "  openjdk-8-jdk-headless openjdk-8-jre-headless\n",
            "0 upgraded, 2 newly installed, 0 to remove and 21 not upgraded.\n",
            "Need to get 35.8 MB of archives.\n",
            "After this operation, 140 MB of additional disk space will be used.\n",
            "Selecting previously unselected package openjdk-8-jre-headless:amd64.\n",
            "(Reading database ... 144611 files and directories currently installed.)\n",
            "Preparing to unpack .../openjdk-8-jre-headless_8u265-b01-0ubuntu2~18.04_amd64.deb ...\n",
            "Unpacking openjdk-8-jre-headless:amd64 (8u265-b01-0ubuntu2~18.04) ...\n",
            "Selecting previously unselected package openjdk-8-jdk-headless:amd64.\n",
            "Preparing to unpack .../openjdk-8-jdk-headless_8u265-b01-0ubuntu2~18.04_amd64.deb ...\n",
            "Unpacking openjdk-8-jdk-headless:amd64 (8u265-b01-0ubuntu2~18.04) ...\n",
            "Setting up openjdk-8-jre-headless:amd64 (8u265-b01-0ubuntu2~18.04) ...\n",
            "update-alternatives: using /usr/lib/jvm/java-8-openjdk-amd64/jre/bin/orbd to provide /usr/bin/orbd (orbd) in auto mode\n",
            "update-alternatives: using /usr/lib/jvm/java-8-openjdk-amd64/jre/bin/servertool to provide /usr/bin/servertool (servertool) in auto mode\n",
            "update-alternatives: using /usr/lib/jvm/java-8-openjdk-amd64/jre/bin/tnameserv to provide /usr/bin/tnameserv (tnameserv) in auto mode\n",
            "Setting up openjdk-8-jdk-headless:amd64 (8u265-b01-0ubuntu2~18.04) ...\n",
            "update-alternatives: using /usr/lib/jvm/java-8-openjdk-amd64/bin/idlj to provide /usr/bin/idlj (idlj) in auto mode\n",
            "update-alternatives: using /usr/lib/jvm/java-8-openjdk-amd64/bin/wsimport to provide /usr/bin/wsimport (wsimport) in auto mode\n",
            "update-alternatives: using /usr/lib/jvm/java-8-openjdk-amd64/bin/jsadebugd to provide /usr/bin/jsadebugd (jsadebugd) in auto mode\n",
            "update-alternatives: using /usr/lib/jvm/java-8-openjdk-amd64/bin/native2ascii to provide /usr/bin/native2ascii (native2ascii) in auto mode\n",
            "update-alternatives: using /usr/lib/jvm/java-8-openjdk-amd64/bin/javah to provide /usr/bin/javah (javah) in auto mode\n",
            "update-alternatives: using /usr/lib/jvm/java-8-openjdk-amd64/bin/clhsdb to provide /usr/bin/clhsdb (clhsdb) in auto mode\n",
            "update-alternatives: using /usr/lib/jvm/java-8-openjdk-amd64/bin/jhat to provide /usr/bin/jhat (jhat) in auto mode\n",
            "update-alternatives: using /usr/lib/jvm/java-8-openjdk-amd64/bin/extcheck to provide /usr/bin/extcheck (extcheck) in auto mode\n",
            "update-alternatives: using /usr/lib/jvm/java-8-openjdk-amd64/bin/hsdb to provide /usr/bin/hsdb (hsdb) in auto mode\n",
            "update-alternatives: using /usr/lib/jvm/java-8-openjdk-amd64/bin/schemagen to provide /usr/bin/schemagen (schemagen) in auto mode\n",
            "update-alternatives: using /usr/lib/jvm/java-8-openjdk-amd64/bin/xjc to provide /usr/bin/xjc (xjc) in auto mode\n",
            "update-alternatives: using /usr/lib/jvm/java-8-openjdk-amd64/bin/wsgen to provide /usr/bin/wsgen (wsgen) in auto mode\n"
          ],
          "name": "stdout"
        }
      ]
    },
    {
      "cell_type": "code",
      "metadata": {
        "id": "HlnFnwhDuVFX",
        "outputId": "041c6303-1089-4ff5-dd6c-fad69dd882f7",
        "colab": {
          "base_uri": "https://localhost:8080/",
          "height": 1000
        }
      },
      "source": [
        "!(mkdir data ; cd data ; wget \"https://raw.githubusercontent.com/doodeck/popes-spark/main/data/popes.csv\" )\n",
        "!ls -ltraR data/"
      ],
      "execution_count": 2,
      "outputs": [
        {
          "output_type": "stream",
          "text": [
            "--2020-10-25 07:49:28--  https://raw.githubusercontent.com/doodeck/popes-spark/main/data/popes.csv\n",
            "Resolving raw.githubusercontent.com (raw.githubusercontent.com)... 151.101.0.133, 151.101.64.133, 151.101.128.133, ...\n",
            "Connecting to raw.githubusercontent.com (raw.githubusercontent.com)|151.101.0.133|:443... connected.\n",
            "HTTP request sent, awaiting response... 200 OK\n",
            "Length: 38162 (37K) [text/plain]\n",
            "Saving to: ‘popes.csv’\n",
            "\n",
            "popes.csv           100%[===================>]  37.27K  --.-KB/s    in 0.01s   \n",
            "\n",
            "2020-10-25 07:49:28 (2.57 MB/s) - ‘popes.csv’ saved [38162/38162]\n",
            "\n",
            ".:\n",
            "total 20\n",
            "drwxr-xr-x 1 root root 4096 Oct 14 16:31 sample_data\n",
            "drwxr-xr-x 1 root root 4096 Oct 14 16:32 .config\n",
            "drwxr-xr-x 1 root root 4096 Oct 25 07:34 ..\n",
            "drwxr-xr-x 1 root root 4096 Oct 25 07:49 .\n",
            "drwxr-xr-x 2 root root 4096 Oct 25 07:49 data\n",
            "\n",
            "./sample_data:\n",
            "total 55512\n",
            "-rwxr-xr-x 1 root root      930 Jan  1  2000 README.md\n",
            "-rwxr-xr-x 1 root root     1697 Jan  1  2000 anscombe.json\n",
            "-rw-r--r-- 1 root root  1706430 Oct 14 16:31 california_housing_train.csv\n",
            "-rw-r--r-- 1 root root   301141 Oct 14 16:31 california_housing_test.csv\n",
            "-rw-r--r-- 1 root root 36523880 Oct 14 16:31 mnist_train_small.csv\n",
            "drwxr-xr-x 1 root root     4096 Oct 14 16:31 .\n",
            "-rw-r--r-- 1 root root 18289443 Oct 14 16:32 mnist_test.csv\n",
            "drwxr-xr-x 1 root root     4096 Oct 25 07:49 ..\n",
            "\n",
            "./.config:\n",
            "total 40\n",
            "drwxr-xr-x 3 root root 4096 Oct 14 16:30 logs\n",
            "-rw-r--r-- 1 root root    3 Oct 14 16:30 .last_opt_in_prompt.yaml\n",
            "drwxr-xr-x 2 root root 4096 Oct 14 16:31 configurations\n",
            "-rw-r--r-- 1 root root    7 Oct 14 16:31 active_config\n",
            "-rw-r--r-- 1 root root   37 Oct 14 16:31 .last_survey_prompt.yaml\n",
            "-rw-r--r-- 1 root root  135 Oct 14 16:31 .last_update_check.json\n",
            "-rw-r--r-- 1 root root    0 Oct 14 16:31 config_sentinel\n",
            "-rw-r--r-- 1 root root   32 Oct 14 16:32 .metricsUUID\n",
            "drwxr-xr-x 1 root root 4096 Oct 14 16:32 .\n",
            "drwxr-xr-x 1 root root 4096 Oct 25 07:49 ..\n",
            "-rw------- 1 root root    5 Jan  1  2040 gce\n",
            "\n",
            "./.config/logs:\n",
            "total 12\n",
            "drwxr-xr-x 3 root root 4096 Oct 14 16:30 .\n",
            "drwxr-xr-x 2 root root 4096 Oct 14 16:31 2020.10.14\n",
            "drwxr-xr-x 1 root root 4096 Oct 14 16:32 ..\n",
            "\n",
            "./.config/logs/2020.10.14:\n",
            "total 68\n",
            "drwxr-xr-x 3 root root  4096 Oct 14 16:30 ..\n",
            "-rw-r--r-- 1 root root   389 Oct 14 16:31 16.31.10.843101.log\n",
            "-rw-r--r-- 1 root root 31313 Oct 14 16:31 16.30.50.869240.log\n",
            "-rw-r--r-- 1 root root   389 Oct 14 16:31 16.31.31.333159.log\n",
            "-rw-r--r-- 1 root root  9917 Oct 14 16:31 16.31.25.706256.log\n",
            "-rw-r--r-- 1 root root   620 Oct 14 16:31 16.31.46.824031.log\n",
            "-rw-r--r-- 1 root root   625 Oct 14 16:31 16.31.46.119103.log\n",
            "drwxr-xr-x 2 root root  4096 Oct 14 16:31 .\n",
            "\n",
            "./.config/configurations:\n",
            "total 12\n",
            "drwxr-xr-x 2 root root 4096 Oct 14 16:31 .\n",
            "-rw-r--r-- 1 root root   94 Oct 14 16:31 config_default\n",
            "drwxr-xr-x 1 root root 4096 Oct 14 16:32 ..\n",
            "\n",
            "./data:\n",
            "total 48\n",
            "drwxr-xr-x 1 root root  4096 Oct 25 07:49 ..\n",
            "drwxr-xr-x 2 root root  4096 Oct 25 07:49 .\n",
            "-rw-r--r-- 1 root root 38162 Oct 25 07:49 popes.csv\n"
          ],
          "name": "stdout"
        }
      ]
    },
    {
      "cell_type": "code",
      "metadata": {
        "id": "K8uoDEqHvT0n",
        "outputId": "df091f0b-382c-4a84-9109-1a66499b465d",
        "colab": {
          "base_uri": "https://localhost:8080/",
          "height": 216
        }
      },
      "source": [
        "from pyspark.sql import (SparkSession, functions as F)\n",
        "\n",
        "# Creates a session on a local master\n",
        "spark = SparkSession.builder.appName(\"Orders analytics\") \\\n",
        "    .master(\"local[*]\").config(\"spark.ui.port\", \"4050\").getOrCreate()\n",
        "spark"
      ],
      "execution_count": 4,
      "outputs": [
        {
          "output_type": "execute_result",
          "data": {
            "text/html": [
              "\n",
              "            <div>\n",
              "                <p><b>SparkSession - in-memory</b></p>\n",
              "                \n",
              "        <div>\n",
              "            <p><b>SparkContext</b></p>\n",
              "\n",
              "            <p><a href=\"http://168863d39d6b:4050\">Spark UI</a></p>\n",
              "\n",
              "            <dl>\n",
              "              <dt>Version</dt>\n",
              "                <dd><code>v3.0.1</code></dd>\n",
              "              <dt>Master</dt>\n",
              "                <dd><code>local[*]</code></dd>\n",
              "              <dt>AppName</dt>\n",
              "                <dd><code>Orders analytics</code></dd>\n",
              "            </dl>\n",
              "        </div>\n",
              "        \n",
              "            </div>\n",
              "        "
            ],
            "text/plain": [
              "<pyspark.sql.session.SparkSession at 0x7fe5e8965d68>"
            ]
          },
          "metadata": {
            "tags": []
          },
          "execution_count": 4
        }
      ]
    },
    {
      "cell_type": "code",
      "metadata": {
        "id": "_EHlwfx4vd9S",
        "outputId": "d3b82095-9b91-480e-c604-4609bb56b6e0",
        "colab": {
          "base_uri": "https://localhost:8080/",
          "height": 51
        }
      },
      "source": [
        "# set up a tunnel to spark UI\n",
        "!node --version\n",
        "cmd = 'npx localtunnel --port 4050 > tunnel.txt &'\n",
        "get_ipython().system_raw(cmd)\n",
        "!sleep 10\n",
        "!cat tunnel.txt"
      ],
      "execution_count": 5,
      "outputs": [
        {
          "output_type": "stream",
          "text": [
            "v12.14.1\n",
            "your url is: https://green-owl-89.loca.lt\n"
          ],
          "name": "stdout"
        }
      ]
    },
    {
      "cell_type": "code",
      "metadata": {
        "id": "9SBe-fq1v1N0",
        "outputId": "dd04c88a-5b5b-4401-de87-8b7d67c17665",
        "colab": {
          "base_uri": "https://localhost:8080/",
          "height": 1000
        }
      },
      "source": [
        "def main(spark):\n",
        "    path = \"./data/\"\n",
        "    filename = \"popes.csv\"\n",
        "    # Reads a CSV file with header, called orders.csv,\n",
        "    # stores it in a dataframe\n",
        "    data = spark.read.format(\"csv\") \\\n",
        "        .option(\"header\", True) \\\n",
        "        .option(\"inferSchema\", True) \\\n",
        "        .load(path + filename)\n",
        "    # TODO: impose schema with numbers, dates, etc.\n",
        "\n",
        "    # df.cache() # creates an entry in Spark storage\n",
        "    data.show()\n",
        "    data.printSchema()\n",
        "\n",
        "    #purify the column names\n",
        "\n",
        "    # df = data.selectExpr(\"Name as name\", \"askdaosdka as age\")\n",
        "    df = data.selectExpr(\n",
        "        \"Pontificate as pontificate\",\n",
        "        \"'Start date' as startDate\",\n",
        "        \"'End date' as endDate\",\n",
        "        \"'Years and days of Pontificate' as yearsAndDays\",\n",
        "        \"'Number of days of Pontificate (max)' as days\",\n",
        "        \"'English name' as engName\",\n",
        "        \"'Regnal name (latin)' as regName\",\n",
        "        \"'Personal name' as persName\",\n",
        "        \"'Place of birth' as placeBirth\",\n",
        "        \"'Modern-day country of birth' as countryBirth\",\n",
        "        \"'Age at start of papacy' as ageStart\",\n",
        "        \"'Age at end of papacy' as ageEnd\",\n",
        "        \"'Comments' as comments\"\n",
        "    )\n",
        "\n",
        "    '''\n",
        "    |-- English name: string (nullable = true)\n",
        "    |-- Regnal name (latin): string (nullable = true)\n",
        "    |-- : string (nullable = true)\n",
        "    |-- : string (nullable = true)\n",
        "    |-- : string (nullable = true)\n",
        "    |-- : string (nullable = true)\n",
        "    |-- : string (nullable = true)\n",
        "    |-- : string (nullable = true)\n",
        "    '''\n",
        "\n",
        "    # Analyse with SQL\n",
        "\n",
        "    df.createOrReplaceTempView(\"popes\")\n",
        "\n",
        "    sql_df = spark.sql('''\n",
        "      desc popes\n",
        "    ''')\n",
        "    sql_df.show(20)\n",
        "\n",
        "\n",
        "# setting log level, update this as per your requirement\n",
        "spark.sparkContext.setLogLevel(\"warn\")\n",
        "\n",
        "main(spark)\n"
      ],
      "execution_count": 14,
      "outputs": [
        {
          "output_type": "stream",
          "text": [
            "+--------------------+----------+--------+-----------------------------+-----------------------------------+--------------------+-------------------+--------------------+--------------------+---------------------------+----------------------+--------------------+--------------------+\n",
            "|         Pontificate|Start date|End date|Years and days of Pontificate|Number of days of Pontificate (max)|        English name|Regnal name (latin)|       Personal name|      Place of birth|Modern-day country of birth|Age at start of papacy|Age at end of papacy|            Comments|\n",
            "+--------------------+----------+--------+-----------------------------+-----------------------------------+--------------------+-------------------+--------------------+--------------------+---------------------------+----------------------+--------------------+--------------------+\n",
            "|          30 - 64/67|        30|      64|               34 to 37 years|                              13505|           St. Peter|             PETRUS|Simon Peter, Sime...|  Bethsaida, Galilea|                     Israel|                   n.a|                 n.a|                null|\n",
            "| 64/67(?) - 76/79(?)|        64|      76|                     12 years|                               4380|           St. Linus|              LINUS|               Linus|Tuscia (Central T...|                      Italy|                   n.a|                 n.a|                null|\n",
            "|       76/79(?) - 88|        76|      92|          12 years or 9 years|                               4380|St. Anacletus (Cl...|          ANACLETUS|           Anacletus|     Probably Greece|                     Greece|                   n.a|                 n.a|                null|\n",
            "|          88/92 - 97|        88|      97|                         null|                                  ?|       St. Clement I|            CLEMENS|             Clement|                Rome|                      Italy|                   n.a|                 n.a|                null|\n",
            "|     97/99 - 105/107|        97|     105|                      8 years|                               2920|St. Evaristus (Ar...|          EVARISTUS|             Aristus|    Bethlehem, Judea|                  West Bank|                   n.a|                 n.a|                null|\n",
            "|   105/107 - 115/116|       105|     115|          10 years or 9 years|                               3650|     St. Alexander I|          ALEXANDER|           Alexander|                Rome|                      Italy|                   n.a|                 n.a|                null|\n",
            "|       115/116 - 125|       115|     125|         20 years or 19 years|                               7300|        St. Sixtus I|             XYSTUS|                 n.a|      Rome or Greece|                     Greece|                   n.a|                 n.a|                null|\n",
            "|       125 - 136/138|       125|     136|         11 years or 13 years|                               4745|     St. Telesphorus|        TELESPHORUS|                 n.a|              Greece|                     Greece|                   n.a|                 n.a|                null|\n",
            "|   136/138 - 140/142|       136|     140|                      4 years|                               1460|         St. Hyginus|            HYGINUS|                 n.a|              Greece|                     Greece|                   n.a|                 n.a|                null|\n",
            "|       140/142 - 155|       140|     142|         15 years or 13 years|                               5475|          St. Pius I|               PIUS|                 n.a|Aquileia, Friuli,...|                      Italy|                   n.a|                 n.a|                null|\n",
            "|           155 - 166|       155|     166|                     11 years|                               4015|        St. Anicetus|           ANICETUS|                 n.a|        Emesa, Syria|                      Syria|                   n.a|                 n.a|                null|\n",
            "|     c.166 - 174/175|       166|     174|           8 years or 9 years|                               3285|          St. Soter |           SOTERIUS|                 n.a|Fondi, Latium, Italy|                      Italy|                   n.a|                 n.a|                null|\n",
            "|       174/175 - 189|       174|     189|         15 years or 14 years|                               5475|       St. Eleuterus|        ELEUTHERIUS|                 n.a|    Nicopoli, Epyrus|                     Greece|                   n.a|                 n.a|                null|\n",
            "|       189 - 198/199|       189|     198|          9 years or 10 years|                               3650|        St. Victor I|             VICTOR|                 n.a|     Northern Africa|                     Africa|                   n.a|                 n.a|                null|\n",
            "|           199 - 217|       199|     217|                     18 years|                               6570|St. Zephyrinus (Z...|         ZEPHYRINUS|                 n.a|                Rome|                      Italy|                   n.a|                 n.a|                null|\n",
            "|     c.217 - 222/223|       217|     222|           5 years or 6 years|                               2190|     St. Callixtus I|          CALLISTUS|                 n.a|               Spain|                      Spain|                   n.a|                 n.a|                null|\n",
            "|       222/223 - 230|       222|     230|           8 years or 7 years|                               2920|         St. Urban I|            URBANUS|                 n.a|                Rome|                      Italy|                   n.a|                 n.a|                null|\n",
            "|21 July 230 - 28 ...|       230|     235|                      5 years|                               1825|         St. Pontian|          PONTIANUS|                 n.a|                Rome|                      Italy|                   n.a|                 n.a|First pope with f...|\n",
            "|21 November 235 -...|       235|     236|                      44 days|                                 44|         St. Anterus|            ANTERUS|                 n.a|              Greece|                     Greece|                   n.a|                 n.a|                null|\n",
            "|10 January 236 - ...|       236|     250|                     14 years|                               5110|          St. Fabian|           FABIANUS|                 n.a|                Rome|                      Italy|                   n.a|                 n.a|                null|\n",
            "+--------------------+----------+--------+-----------------------------+-----------------------------------+--------------------+-------------------+--------------------+--------------------+---------------------------+----------------------+--------------------+--------------------+\n",
            "only showing top 20 rows\n",
            "\n",
            "root\n",
            " |-- Pontificate: string (nullable = true)\n",
            " |-- Start date: string (nullable = true)\n",
            " |-- End date: integer (nullable = true)\n",
            " |-- Years and days of Pontificate: string (nullable = true)\n",
            " |-- Number of days of Pontificate (max): string (nullable = true)\n",
            " |-- English name: string (nullable = true)\n",
            " |-- Regnal name (latin): string (nullable = true)\n",
            " |-- Personal name: string (nullable = true)\n",
            " |-- Place of birth: string (nullable = true)\n",
            " |-- Modern-day country of birth: string (nullable = true)\n",
            " |-- Age at start of papacy: string (nullable = true)\n",
            " |-- Age at end of papacy: string (nullable = true)\n",
            " |-- Comments: string (nullable = true)\n",
            "\n",
            "+------------+---------+-------+\n",
            "|    col_name|data_type|comment|\n",
            "+------------+---------+-------+\n",
            "| pontificate|   string|   null|\n",
            "|   startDate|   string|   null|\n",
            "|     endDate|   string|   null|\n",
            "|yearsAndDays|   string|   null|\n",
            "|        days|   string|   null|\n",
            "|     engName|   string|   null|\n",
            "|     regName|   string|   null|\n",
            "|    persName|   string|   null|\n",
            "|  placeBirth|   string|   null|\n",
            "|countryBirth|   string|   null|\n",
            "|    ageStart|   string|   null|\n",
            "|      ageEnd|   string|   null|\n",
            "|    comments|   string|   null|\n",
            "+------------+---------+-------+\n",
            "\n"
          ],
          "name": "stdout"
        }
      ]
    }
  ]
}