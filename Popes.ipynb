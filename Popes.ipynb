{
  "nbformat": 4,
  "nbformat_minor": 0,
  "metadata": {
    "colab": {
      "name": "Popes.ipynb",
      "provenance": [],
      "authorship_tag": "ABX9TyNsa+gsNov4fhmuRGIOPRXh",
      "include_colab_link": true
    },
    "kernelspec": {
      "name": "python3",
      "display_name": "Python 3"
    }
  },
  "cells": [
    {
      "cell_type": "markdown",
      "metadata": {
        "id": "view-in-github",
        "colab_type": "text"
      },
      "source": [
        "<a href=\"https://colab.research.google.com/github/doodeck/popes-spark/blob/main/Popes.ipynb\" target=\"_parent\"><img src=\"https://colab.research.google.com/assets/colab-badge.svg\" alt=\"Open In Colab\"/></a>"
      ]
    },
    {
      "cell_type": "markdown",
      "metadata": {
        "id": "Pvc0HstGuB0w"
      },
      "source": [
        "Complete list of Popes Data Analysis"
      ]
    },
    {
      "cell_type": "code",
      "metadata": {
        "id": "DM-s5P6Xt90t",
        "outputId": "9db86100-514d-4ee3-fd24-49509ca39258",
        "colab": {
          "base_uri": "https://localhost:8080/"
        }
      },
      "source": [
        "!pip install pyspark\n",
        "!pip install -U -q PyDrive\n",
        "!apt install openjdk-8-jdk-headless -qq\n",
        "import os\n",
        "os.environ[\"JAVA_HOME\"] = \"/usr/lib/jvm/java-8-openjdk-amd64\""
      ],
      "execution_count": 1,
      "outputs": [
        {
          "output_type": "stream",
          "name": "stdout",
          "text": [
            "Requirement already satisfied: pyspark in /usr/local/lib/python3.11/dist-packages (3.5.1)\n",
            "Requirement already satisfied: py4j==0.10.9.7 in /usr/local/lib/python3.11/dist-packages (from pyspark) (0.10.9.7)\n",
            "The following additional packages will be installed:\n",
            "  libxtst6 openjdk-8-jre-headless\n",
            "Suggested packages:\n",
            "  openjdk-8-demo openjdk-8-source libnss-mdns fonts-dejavu-extra fonts-nanum\n",
            "  fonts-ipafont-gothic fonts-ipafont-mincho fonts-wqy-microhei\n",
            "  fonts-wqy-zenhei fonts-indic\n",
            "The following NEW packages will be installed:\n",
            "  libxtst6 openjdk-8-jdk-headless openjdk-8-jre-headless\n",
            "0 upgraded, 3 newly installed, 0 to remove and 35 not upgraded.\n",
            "Need to get 39.7 MB of archives.\n",
            "After this operation, 144 MB of additional disk space will be used.\n",
            "Selecting previously unselected package libxtst6:amd64.\n",
            "(Reading database ... 126111 files and directories currently installed.)\n",
            "Preparing to unpack .../libxtst6_2%3a1.2.3-1build4_amd64.deb ...\n",
            "Unpacking libxtst6:amd64 (2:1.2.3-1build4) ...\n",
            "Selecting previously unselected package openjdk-8-jre-headless:amd64.\n",
            "Preparing to unpack .../openjdk-8-jre-headless_8u452-ga~us1-0ubuntu1~22.04_amd64.deb ...\n",
            "Unpacking openjdk-8-jre-headless:amd64 (8u452-ga~us1-0ubuntu1~22.04) ...\n",
            "Selecting previously unselected package openjdk-8-jdk-headless:amd64.\n",
            "Preparing to unpack .../openjdk-8-jdk-headless_8u452-ga~us1-0ubuntu1~22.04_amd64.deb ...\n",
            "Unpacking openjdk-8-jdk-headless:amd64 (8u452-ga~us1-0ubuntu1~22.04) ...\n",
            "Setting up libxtst6:amd64 (2:1.2.3-1build4) ...\n",
            "Setting up openjdk-8-jre-headless:amd64 (8u452-ga~us1-0ubuntu1~22.04) ...\n",
            "update-alternatives: using /usr/lib/jvm/java-8-openjdk-amd64/jre/bin/orbd to provide /usr/bin/orbd (orbd) in auto mode\n",
            "update-alternatives: using /usr/lib/jvm/java-8-openjdk-amd64/jre/bin/servertool to provide /usr/bin/servertool (servertool) in auto mode\n",
            "update-alternatives: using /usr/lib/jvm/java-8-openjdk-amd64/jre/bin/tnameserv to provide /usr/bin/tnameserv (tnameserv) in auto mode\n",
            "Setting up openjdk-8-jdk-headless:amd64 (8u452-ga~us1-0ubuntu1~22.04) ...\n",
            "update-alternatives: using /usr/lib/jvm/java-8-openjdk-amd64/bin/clhsdb to provide /usr/bin/clhsdb (clhsdb) in auto mode\n",
            "update-alternatives: using /usr/lib/jvm/java-8-openjdk-amd64/bin/extcheck to provide /usr/bin/extcheck (extcheck) in auto mode\n",
            "update-alternatives: using /usr/lib/jvm/java-8-openjdk-amd64/bin/hsdb to provide /usr/bin/hsdb (hsdb) in auto mode\n",
            "update-alternatives: using /usr/lib/jvm/java-8-openjdk-amd64/bin/idlj to provide /usr/bin/idlj (idlj) in auto mode\n",
            "update-alternatives: using /usr/lib/jvm/java-8-openjdk-amd64/bin/javah to provide /usr/bin/javah (javah) in auto mode\n",
            "update-alternatives: using /usr/lib/jvm/java-8-openjdk-amd64/bin/jhat to provide /usr/bin/jhat (jhat) in auto mode\n",
            "update-alternatives: using /usr/lib/jvm/java-8-openjdk-amd64/bin/jsadebugd to provide /usr/bin/jsadebugd (jsadebugd) in auto mode\n",
            "update-alternatives: using /usr/lib/jvm/java-8-openjdk-amd64/bin/native2ascii to provide /usr/bin/native2ascii (native2ascii) in auto mode\n",
            "update-alternatives: using /usr/lib/jvm/java-8-openjdk-amd64/bin/schemagen to provide /usr/bin/schemagen (schemagen) in auto mode\n",
            "update-alternatives: using /usr/lib/jvm/java-8-openjdk-amd64/bin/wsgen to provide /usr/bin/wsgen (wsgen) in auto mode\n",
            "update-alternatives: using /usr/lib/jvm/java-8-openjdk-amd64/bin/wsimport to provide /usr/bin/wsimport (wsimport) in auto mode\n",
            "update-alternatives: using /usr/lib/jvm/java-8-openjdk-amd64/bin/xjc to provide /usr/bin/xjc (xjc) in auto mode\n",
            "Processing triggers for libc-bin (2.35-0ubuntu3.8) ...\n",
            "/sbin/ldconfig.real: /usr/local/lib/libumf.so.0 is not a symbolic link\n",
            "\n",
            "/sbin/ldconfig.real: /usr/local/lib/libur_loader.so.0 is not a symbolic link\n",
            "\n",
            "/sbin/ldconfig.real: /usr/local/lib/libtbbbind.so.3 is not a symbolic link\n",
            "\n",
            "/sbin/ldconfig.real: /usr/local/lib/libtcm_debug.so.1 is not a symbolic link\n",
            "\n",
            "/sbin/ldconfig.real: /usr/local/lib/libtbbbind_2_5.so.3 is not a symbolic link\n",
            "\n",
            "/sbin/ldconfig.real: /usr/local/lib/libhwloc.so.15 is not a symbolic link\n",
            "\n",
            "/sbin/ldconfig.real: /usr/local/lib/libtcm.so.1 is not a symbolic link\n",
            "\n",
            "/sbin/ldconfig.real: /usr/local/lib/libtbb.so.12 is not a symbolic link\n",
            "\n",
            "/sbin/ldconfig.real: /usr/local/lib/libtbbbind_2_0.so.3 is not a symbolic link\n",
            "\n",
            "/sbin/ldconfig.real: /usr/local/lib/libur_adapter_opencl.so.0 is not a symbolic link\n",
            "\n",
            "/sbin/ldconfig.real: /usr/local/lib/libtbbmalloc_proxy.so.2 is not a symbolic link\n",
            "\n",
            "/sbin/ldconfig.real: /usr/local/lib/libtbbmalloc.so.2 is not a symbolic link\n",
            "\n",
            "/sbin/ldconfig.real: /usr/local/lib/libur_adapter_level_zero.so.0 is not a symbolic link\n",
            "\n"
          ]
        }
      ]
    },
    {
      "cell_type": "code",
      "metadata": {
        "id": "HlnFnwhDuVFX",
        "outputId": "db0c53e5-5397-4f9b-f7f1-a7b2a4a5d5fa",
        "colab": {
          "base_uri": "https://localhost:8080/"
        }
      },
      "source": [
        "!(mkdir data ; cd data ; rm popes.csv ; wget \"https://raw.githubusercontent.com/doodeck/popes-spark/main/data/popes.csv\" )\n",
        "!ls -ltraR data/"
      ],
      "execution_count": 2,
      "outputs": [
        {
          "output_type": "stream",
          "name": "stdout",
          "text": [
            "rm: cannot remove 'popes.csv': No such file or directory\n",
            "--2025-06-15 05:48:02--  https://raw.githubusercontent.com/doodeck/popes-spark/main/data/popes.csv\n",
            "Resolving raw.githubusercontent.com (raw.githubusercontent.com)... 185.199.108.133, 185.199.109.133, 185.199.110.133, ...\n",
            "Connecting to raw.githubusercontent.com (raw.githubusercontent.com)|185.199.108.133|:443... connected.\n",
            "HTTP request sent, awaiting response... 200 OK\n",
            "Length: 38169 (37K) [text/plain]\n",
            "Saving to: ‘popes.csv’\n",
            "\n",
            "popes.csv           100%[===================>]  37.27K  --.-KB/s    in 0.02s   \n",
            "\n",
            "2025-06-15 05:48:02 (2.24 MB/s) - ‘popes.csv’ saved [38169/38169]\n",
            "\n",
            "data/:\n",
            "total 48\n",
            "drwxr-xr-x 1 root root  4096 Jun 15 05:48 ..\n",
            "drwxr-xr-x 2 root root  4096 Jun 15 05:48 .\n",
            "-rw-r--r-- 1 root root 38169 Jun 15 05:48 popes.csv\n"
          ]
        }
      ]
    },
    {
      "cell_type": "code",
      "metadata": {
        "id": "K8uoDEqHvT0n",
        "outputId": "f4e7f229-3de8-4a31-f3a5-36b949765e40",
        "colab": {
          "base_uri": "https://localhost:8080/",
          "height": 221
        }
      },
      "source": [
        "from pyspark.sql import (SparkSession, functions as F)\n",
        "\n",
        "# Creates a session on a local master\n",
        "spark = SparkSession.builder.appName(\"Orders analytics\") \\\n",
        "    .master(\"local[*]\").config(\"spark.ui.port\", \"4050\").getOrCreate()\n",
        "spark"
      ],
      "execution_count": 3,
      "outputs": [
        {
          "output_type": "execute_result",
          "data": {
            "text/plain": [
              "<pyspark.sql.session.SparkSession at 0x7cbfd3c067d0>"
            ],
            "text/html": [
              "\n",
              "            <div>\n",
              "                <p><b>SparkSession - in-memory</b></p>\n",
              "                \n",
              "        <div>\n",
              "            <p><b>SparkContext</b></p>\n",
              "\n",
              "            <p><a href=\"http://62e8e6df749d:4050\">Spark UI</a></p>\n",
              "\n",
              "            <dl>\n",
              "              <dt>Version</dt>\n",
              "                <dd><code>v3.5.1</code></dd>\n",
              "              <dt>Master</dt>\n",
              "                <dd><code>local[*]</code></dd>\n",
              "              <dt>AppName</dt>\n",
              "                <dd><code>Orders analytics</code></dd>\n",
              "            </dl>\n",
              "        </div>\n",
              "        \n",
              "            </div>\n",
              "        "
            ]
          },
          "metadata": {},
          "execution_count": 3
        }
      ]
    },
    {
      "cell_type": "code",
      "source": [
        "!curl https://loca.lt/mytunnelpassword"
      ],
      "metadata": {
        "id": "reFx87ckJAEU",
        "outputId": "7a2cb2f8-173e-4174-8d24-13b216ce4e24",
        "colab": {
          "base_uri": "https://localhost:8080/"
        }
      },
      "execution_count": 7,
      "outputs": [
        {
          "output_type": "stream",
          "name": "stdout",
          "text": [
            "34.106.43.250"
          ]
        }
      ]
    },
    {
      "cell_type": "code",
      "metadata": {
        "id": "_EHlwfx4vd9S",
        "outputId": "27c8e00e-609c-465a-9c33-08b2a45b1827",
        "colab": {
          "base_uri": "https://localhost:8080/"
        }
      },
      "source": [
        "# set up a tunnel to spark UI\n",
        "!node --version\n",
        "cmd = 'npx localtunnel --port 4050 > tunnel.txt &'\n",
        "get_ipython().system_raw(cmd)\n",
        "!sleep 10\n",
        "!cat tunnel.txt"
      ],
      "execution_count": 4,
      "outputs": [
        {
          "output_type": "stream",
          "name": "stdout",
          "text": [
            "v20.19.0\n",
            "your url is: https://orange-kids-taste.loca.lt\n"
          ]
        }
      ]
    },
    {
      "cell_type": "code",
      "metadata": {
        "id": "9SBe-fq1v1N0",
        "outputId": "8e394359-11c5-4ef4-fec4-e61931e64e69",
        "colab": {
          "base_uri": "https://localhost:8080/"
        }
      },
      "source": [
        "from pyspark.sql.types import (StructType, StructField,\n",
        "                               StringType, IntegerType)\n",
        "\n",
        "def main(spark):\n",
        "    path = \"./data/\"\n",
        "    filename = \"popes.csv\"\n",
        "\n",
        "    # describe schema\n",
        "    schema = StructType([StructField('pontificate', StringType(), False),\n",
        "                        StructField('startYear', IntegerType(), False),\n",
        "                        StructField('endYear', IntegerType(), False),\n",
        "                        StructField('yearsAndDays', StringType(), False),\n",
        "                        StructField('days', IntegerType(), False),\n",
        "                        StructField('engName', StringType(), False),\n",
        "                        StructField('regName', StringType(), False),\n",
        "                        StructField('persName', StringType(), False),\n",
        "                        StructField('placeBirth', StringType(), False),\n",
        "                        StructField('countryBirth', StringType(), False),\n",
        "                        StructField('ageStart', IntegerType(), False),\n",
        "                        StructField('ageEnd', IntegerType(), False),\n",
        "                        StructField('comments', StringType(), False)])\n",
        "\n",
        "    # Reads a CSV file with header, called orders.csv,\n",
        "    # stores it in a dataframe\n",
        "    df = spark.read.format(\"csv\") \\\n",
        "        .option(\"header\", True) \\\n",
        "        .schema(schema) \\\n",
        "        .load(path + filename)\n",
        "\n",
        "    # df.cache() # creates an entry in Spark storage\n",
        "    df.show()\n",
        "    df.printSchema()\n",
        "\n",
        "    #purify the column names\n",
        "\n",
        "    # Analyse with SQL\n",
        "\n",
        "    df.createOrReplaceTempView(\"popes\")\n",
        "\n",
        "    sql_df = spark.sql('''\n",
        "      desc popes\n",
        "    ''')\n",
        "    sql_df.show(20)\n",
        "\n",
        "\n",
        "# setting log level, update this as per your requirement\n",
        "spark.sparkContext.setLogLevel(\"warn\")\n",
        "\n",
        "main(spark)\n"
      ],
      "execution_count": 5,
      "outputs": [
        {
          "output_type": "stream",
          "name": "stdout",
          "text": [
            "+--------------------+---------+-------+--------------------+-----+--------------------+-----------+--------------------+--------------------+------------+--------+------+--------------------+\n",
            "|         pontificate|startYear|endYear|        yearsAndDays| days|             engName|    regName|            persName|          placeBirth|countryBirth|ageStart|ageEnd|            comments|\n",
            "+--------------------+---------+-------+--------------------+-----+--------------------+-----------+--------------------+--------------------+------------+--------+------+--------------------+\n",
            "|          30 - 64/67|       30|     64|      34 to 37 years|13505|           St. Peter|     PETRUS|Simon Peter, Sime...|  Bethsaida, Galilea|      Israel|    NULL|  NULL|                NULL|\n",
            "| 64/67(?) - 76/79(?)|       64|     76|            12 years| 4380|           St. Linus|      LINUS|               Linus|Tuscia (Central T...|       Italy|    NULL|  NULL|                NULL|\n",
            "|       76/79(?) - 88|       76|     92| 12 years or 9 years| 4380|St. Anacletus (Cl...|  ANACLETUS|           Anacletus|     Probably Greece|      Greece|    NULL|  NULL|                NULL|\n",
            "|          88/92 - 97|       88|     97|                NULL| NULL|       St. Clement I|    CLEMENS|             Clement|                Rome|       Italy|    NULL|  NULL|                NULL|\n",
            "|     97/99 - 105/107|       97|    105|             8 years| 2920|St. Evaristus (Ar...|  EVARISTUS|             Aristus|    Bethlehem, Judea|   West Bank|    NULL|  NULL|                NULL|\n",
            "|   105/107 - 115/116|      105|    115| 10 years or 9 years| 3650|     St. Alexander I|  ALEXANDER|           Alexander|                Rome|       Italy|    NULL|  NULL|                NULL|\n",
            "|       115/116 - 125|      115|    125|20 years or 19 years| 7300|        St. Sixtus I|     XYSTUS|                 n.a|      Rome or Greece|      Greece|    NULL|  NULL|                NULL|\n",
            "|       125 - 136/138|      125|    136|11 years or 13 years| 4745|     St. Telesphorus|TELESPHORUS|                 n.a|              Greece|      Greece|    NULL|  NULL|                NULL|\n",
            "|   136/138 - 140/142|      136|    140|             4 years| 1460|         St. Hyginus|    HYGINUS|                 n.a|              Greece|      Greece|    NULL|  NULL|                NULL|\n",
            "|       140/142 - 155|      140|    142|15 years or 13 years| 5475|          St. Pius I|       PIUS|                 n.a|Aquileia, Friuli,...|       Italy|    NULL|  NULL|                NULL|\n",
            "|           155 - 166|      155|    166|            11 years| 4015|        St. Anicetus|   ANICETUS|                 n.a|        Emesa, Syria|       Syria|    NULL|  NULL|                NULL|\n",
            "|     c.166 - 174/175|      166|    174|  8 years or 9 years| 3285|          St. Soter |   SOTERIUS|                 n.a|Fondi, Latium, Italy|       Italy|    NULL|  NULL|                NULL|\n",
            "|       174/175 - 189|      174|    189|15 years or 14 years| 5475|       St. Eleuterus|ELEUTHERIUS|                 n.a|    Nicopoli, Epyrus|      Greece|    NULL|  NULL|                NULL|\n",
            "|       189 - 198/199|      189|    198| 9 years or 10 years| 3650|        St. Victor I|     VICTOR|                 n.a|     Northern Africa|      Africa|    NULL|  NULL|                NULL|\n",
            "|           199 - 217|      199|    217|            18 years| 6570|St. Zephyrinus (Z...| ZEPHYRINUS|                 n.a|                Rome|       Italy|    NULL|  NULL|                NULL|\n",
            "|     c.217 - 222/223|      217|    222|  5 years or 6 years| 2190|     St. Callixtus I|  CALLISTUS|                 n.a|               Spain|       Spain|    NULL|  NULL|                NULL|\n",
            "|       222/223 - 230|      222|    230|  8 years or 7 years| 2920|         St. Urban I|    URBANUS|                 n.a|                Rome|       Italy|    NULL|  NULL|                NULL|\n",
            "|21 July 230 - 28 ...|      230|    235|             5 years| 1825|         St. Pontian|  PONTIANUS|                 n.a|                Rome|       Italy|    NULL|  NULL|First pope with f...|\n",
            "|21 November 235 -...|      235|    236|             44 days|   44|         St. Anterus|    ANTERUS|                 n.a|              Greece|      Greece|    NULL|  NULL|                NULL|\n",
            "|10 January 236 - ...|      236|    250|            14 years| 5110|          St. Fabian|   FABIANUS|                 n.a|                Rome|       Italy|    NULL|  NULL|                NULL|\n",
            "+--------------------+---------+-------+--------------------+-----+--------------------+-----------+--------------------+--------------------+------------+--------+------+--------------------+\n",
            "only showing top 20 rows\n",
            "\n",
            "root\n",
            " |-- pontificate: string (nullable = true)\n",
            " |-- startYear: integer (nullable = true)\n",
            " |-- endYear: integer (nullable = true)\n",
            " |-- yearsAndDays: string (nullable = true)\n",
            " |-- days: integer (nullable = true)\n",
            " |-- engName: string (nullable = true)\n",
            " |-- regName: string (nullable = true)\n",
            " |-- persName: string (nullable = true)\n",
            " |-- placeBirth: string (nullable = true)\n",
            " |-- countryBirth: string (nullable = true)\n",
            " |-- ageStart: integer (nullable = true)\n",
            " |-- ageEnd: integer (nullable = true)\n",
            " |-- comments: string (nullable = true)\n",
            "\n",
            "+------------+---------+-------+\n",
            "|    col_name|data_type|comment|\n",
            "+------------+---------+-------+\n",
            "| pontificate|   string|   NULL|\n",
            "|   startYear|      int|   NULL|\n",
            "|     endYear|      int|   NULL|\n",
            "|yearsAndDays|   string|   NULL|\n",
            "|        days|      int|   NULL|\n",
            "|     engName|   string|   NULL|\n",
            "|     regName|   string|   NULL|\n",
            "|    persName|   string|   NULL|\n",
            "|  placeBirth|   string|   NULL|\n",
            "|countryBirth|   string|   NULL|\n",
            "|    ageStart|      int|   NULL|\n",
            "|      ageEnd|      int|   NULL|\n",
            "|    comments|   string|   NULL|\n",
            "+------------+---------+-------+\n",
            "\n"
          ]
        }
      ]
    },
    {
      "cell_type": "code",
      "metadata": {
        "id": "UiKW315VRMuf",
        "outputId": "5b9ccaa6-8d39-4c61-c515-75e0ee4910e0",
        "colab": {
          "base_uri": "https://localhost:8080/"
        }
      },
      "source": [
        "    sql_df = spark.sql(\"\"\"\n",
        "      select count(*) as Number_of_records, max(days) from popes\n",
        "      -- select max(days) from popes\n",
        "    \"\"\")\n",
        "    sql_df.show(20)\n",
        "\n",
        "    sql_df = spark.sql(\"\"\"\n",
        "      select * from popes where days = (select max(days) from popes)\n",
        "    \"\"\")\n",
        "    sql_df.show(20)\n",
        "\n",
        "    sql_df = spark.sql(\"\"\"\n",
        "      select * from popes where days = (select min(days) from popes where days > 0)\n",
        "    \"\"\")\n",
        "    sql_df.show(20)\n",
        "\n",
        "    sql_df = spark.sql(\"\"\"\n",
        "      select * from popes where countryBirth like 'Poland'\n",
        "    \"\"\")\n",
        "    sql_df.show(20)\n",
        "\n",
        "    sql_df = spark.sql(\"\"\"\n",
        "      select * from popes where ageStart = (select min(ageStart) from popes where ageStart > 0)\n",
        "    \"\"\")\n",
        "    sql_df.show(20)\n"
      ],
      "execution_count": 6,
      "outputs": [
        {
          "output_type": "stream",
          "name": "stdout",
          "text": [
            "+-----------------+---------+\n",
            "|Number_of_records|max(days)|\n",
            "+-----------------+---------+\n",
            "|              272|    13505|\n",
            "+-----------------+---------+\n",
            "\n",
            "+-----------+---------+-------+--------------+-----+---------+-------+--------------------+------------------+------------+--------+------+--------+\n",
            "|pontificate|startYear|endYear|  yearsAndDays| days|  engName|regName|            persName|        placeBirth|countryBirth|ageStart|ageEnd|comments|\n",
            "+-----------+---------+-------+--------------+-----+---------+-------+--------------------+------------------+------------+--------+------+--------+\n",
            "| 30 - 64/67|       30|     64|34 to 37 years|13505|St. Peter| PETRUS|Simon Peter, Sime...|Bethsaida, Galilea|      Israel|    NULL|  NULL|    NULL|\n",
            "+-----------+---------+-------+--------------+-----+---------+-------+--------------------+------------------+------------+--------+------+--------+\n",
            "\n",
            "+--------------------+---------+-------+------------+----+---------+----------------+--------------------+------------------+------------+--------+------+--------------------+\n",
            "|         pontificate|startYear|endYear|yearsAndDays|days|  engName|         regName|            persName|        placeBirth|countryBirth|ageStart|ageEnd|            comments|\n",
            "+--------------------+---------+-------+------------+----+---------+----------------+--------------------+------------------+------------+--------+------+--------------------+\n",
            "|15 September 1590...|     1590|   1590|     12 days|  12|Urban VII|URBANUS Septimus|Giovanni Battista...|Rome, Papal States|       Italy|      69|    69|Shortest-reigning...|\n",
            "+--------------------+---------+-------+------------+----+---------+----------------+--------------------+------------------+------------+--------+------+--------------------+\n",
            "\n",
            "+--------------------+---------+-------+--------------------+----+--------------------+--------------------+-------------------+----------------+------------+--------+------+--------+\n",
            "|         pontificate|startYear|endYear|        yearsAndDays|days|             engName|             regName|           persName|      placeBirth|countryBirth|ageStart|ageEnd|comments|\n",
            "+--------------------+---------+-------+--------------------+----+--------------------+--------------------+-------------------+----------------+------------+--------+------+--------+\n",
            "|16 October 1978 -...|     1978|   2005|26 years and 168 ...|9658|Ven. John Paul II...|IOANNES PAULUS Se...|Karol Jozef Wojtyla|Wadowice, Poland|      Poland|      58|    84|    NULL|\n",
            "+--------------------+---------+-------+--------------------+----+--------------------+--------------------+-------------------+----------------+------------+--------+------+--------+\n",
            "\n",
            "+--------------------+---------+-------+--------------------+----+-------+-----------+--------------------+--------------------+------------+--------+------+--------+\n",
            "|         pontificate|startYear|endYear|        yearsAndDays|days|engName|    regName|            persName|          placeBirth|countryBirth|ageStart|ageEnd|comments|\n",
            "+--------------------+---------+-------+--------------------+----+-------+-----------+--------------------+--------------------+------------+--------+------+--------+\n",
            "|9 March 1513 - 1 ...|     1513|   1521|8 years and 267 days|3187|  Leo X|LEO Decimus|Giovanni di Loren...|Florence, Republi...|       Italy|      37|    45|    NULL|\n",
            "+--------------------+---------+-------+--------------------+----+-------+-----------+--------------------+--------------------+------------+--------+------+--------+\n",
            "\n"
          ]
        }
      ]
    }
  ]
}